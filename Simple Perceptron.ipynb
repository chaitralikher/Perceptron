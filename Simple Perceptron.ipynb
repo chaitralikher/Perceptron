{
 "cells": [
  {
   "cell_type": "code",
   "execution_count": 9,
   "metadata": {},
   "outputs": [],
   "source": [
    "import numpy as np\n",
    "import matplotlib.pyplot as plt\n",
    "import random as rd\n",
    "from sklearn.model_selection import train_test_split\n",
    "\n",
    "#fetch data from url\n",
    "dataurl = \"https://www.csee.umbc.edu/courses/graduate/678/spring20/mnist_data.txt\"\n",
    "data=np.loadtxt(dataurl, delimiter=\" \")\n",
    "\n",
    "#fetch labels\n",
    "labelurl=\"https://www.csee.umbc.edu/courses/graduate/678/spring20/mnist_labels.txt\"\n",
    "labels=np.loadtxt(labelurl)"
   ]
  },
  {
   "cell_type": "code",
   "execution_count": 7,
   "metadata": {},
   "outputs": [],
   "source": [
    "#Prepend 1 to all the data for adding implicit bias term\n",
    "def prepend(x):\n",
    "    a, b = np.shape(x)\n",
    "    c = np.ones((a , 1)) \n",
    "    return np.hstack((c, x))"
   ]
  },
  {
   "cell_type": "code",
   "execution_count": 10,
   "metadata": {},
   "outputs": [
    {
     "data": {
      "text/plain": [
       "array([[0., 0., 0., ..., 0., 0., 0.],\n",
       "       [0., 0., 0., ..., 0., 0., 0.]])"
      ]
     },
     "execution_count": 10,
     "metadata": {},
     "output_type": "execute_result"
    }
   ],
   "source": [
    "X=prepend(data)\n",
    "y=labels\n",
    "#Split data 50-50\n",
    "X_train, X_test, y_train, y_test = train_test_split(X, y, test_size=0.5,random_state=50)\n",
    "#print(X_train.shape)\n",
    "y_train=np.asarray(y_train)\n",
    "#print(y_train.shape)"
   ]
  },
  {
   "cell_type": "code",
   "execution_count": 6,
   "metadata": {},
   "outputs": [],
   "source": [
    "#Perceptron training function\n",
    "def train_data(X_train,y_train):\n",
    "    \n",
    "    dot=np.ndarray(10,dtype=np.float32)\n",
    "    #initialized the weights vector to 0\n",
    "    weights=np.zeros((10,X_train.shape[1]),dtype=np.float32)\n",
    "    iter=35                  #iterations for training\n",
    "    learning_rate=0.1        #learning rate\n",
    "    \n",
    "    #Iterations and updating weights\n",
    "    for i in range(iter):\n",
    "        correct=0\n",
    "        for j in range(X_train.shape[0]):\n",
    "            for k in range(10):\n",
    "                dot[k]=np.dot(X_train[j], weights[k])\n",
    "            \n",
    "            #true label\n",
    "            true_label=y_train[j]\n",
    "            max_weight=np.argmax(dot,axis=None)\n",
    "            \n",
    "            #predicted label\n",
    "            y_predicted=max_weight\n",
    "            \n",
    "            #updating weights\n",
    "            if(y_predicted!=true_label):\n",
    "                weights[max_weight] -=learning_rate*X_train[j]\n",
    "                weights[true_label] +=learning_rate*X_train[j] \n",
    "                \n",
    "            elif(y_predicted==true_label):\n",
    "                correct+=1\n",
    "    \n",
    "    accuracy=round(((correct/y_train.shape[0])*100),2)\n",
    "    print(\"training accuracy:\"+str(accuracy))\n",
    "    return weights"
   ]
  },
  {
   "cell_type": "code",
   "execution_count": 176,
   "metadata": {},
   "outputs": [
    {
     "name": "stdout",
     "output_type": "stream",
     "text": [
      "training accuracy:95.34\n"
     ]
    }
   ],
   "source": [
    "#train_data() is the training function which returns all the updated weights\n",
    "w=train_data(X_train,y_train)\n"
   ]
  },
  {
   "cell_type": "code",
   "execution_count": 179,
   "metadata": {},
   "outputs": [],
   "source": [
    "#test_data() is used to test our accuracy on test split\n",
    "#The updated weight vector obtained from the \n",
    "def test_data(X_test,y_test,w):\n",
    "    correct=0\n",
    "    y_test=np.asarray(y_test)\n",
    "    dot=np.dot(X_test,w.T)\n",
    "    print(dot.shape)\n",
    "    for i in range(5000):\n",
    "        max_weight=np.argmax(dot[i],axis=None)\n",
    "        y_predicted=max_weight\n",
    "        if(y_predicted==y_test[i]):\n",
    "            correct+=1\n",
    "    accuracy=round(((correct/y_test.shape[0])*100),2)\n",
    "    print(\"test split accuracy:\"+str(accuracy))"
   ]
  },
  {
   "cell_type": "code",
   "execution_count": 180,
   "metadata": {},
   "outputs": [
    {
     "name": "stdout",
     "output_type": "stream",
     "text": [
      "(5000, 10)\n",
      "test split accuracy:86.16\n"
     ]
    }
   ],
   "source": [
    "test_data(X_test,y_test,w)"
   ]
  },
  {
   "cell_type": "code",
   "execution_count": null,
   "metadata": {},
   "outputs": [],
   "source": []
  },
  {
   "cell_type": "code",
   "execution_count": null,
   "metadata": {},
   "outputs": [],
   "source": []
  },
  {
   "cell_type": "code",
   "execution_count": null,
   "metadata": {},
   "outputs": [],
   "source": []
  }
 ],
 "metadata": {
  "kernelspec": {
   "display_name": "Python 3",
   "language": "python",
   "name": "python3"
  },
  "language_info": {
   "codemirror_mode": {
    "name": "ipython",
    "version": 3
   },
   "file_extension": ".py",
   "mimetype": "text/x-python",
   "name": "python",
   "nbconvert_exporter": "python",
   "pygments_lexer": "ipython3",
   "version": "3.6.5"
  }
 },
 "nbformat": 4,
 "nbformat_minor": 2
}
